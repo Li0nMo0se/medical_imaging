{
 "cells": [
  {
   "cell_type": "markdown",
   "metadata": {},
   "source": [
    "# Iterative Closest Point (ICP)"
   ]
  },
  {
   "cell_type": "code",
   "execution_count": 1,
   "metadata": {},
   "outputs": [],
   "source": [
    "# imports\n",
    "import numpy as np\n",
    "import numpy.linalg\n",
    "import matplotlib.pyplot as plt\n",
    "%matplotlib inline"
   ]
  },
  {
   "cell_type": "markdown",
   "id": "1fd416f2",
   "metadata": {},
   "source": [
    "## Implementation"
   ]
  },
  {
   "cell_type": "code",
   "execution_count": 2,
   "id": "2d8119b7",
   "metadata": {},
   "outputs": [],
   "source": [
    "import icp.icp as other_icp # Import OK"
   ]
  },
  {
   "cell_type": "markdown",
   "metadata": {},
   "source": [
    "## Data setup\n",
    "\n",
    "2D Translation & Rotation matrix:\n",
    "$$\n",
    "M =\n",
    "\\begin{bmatrix}\n",
    "\\cos(\\theta) & -\\sin(\\theta) & t_x \\\\\n",
    "\\sin(\\theta) & \\cos(\\theta) & t_y \\\\\n",
    "0 & 0 & 1 \\\\\n",
    "\\end{bmatrix}\n",
    "$$"
   ]
  },
  {
   "cell_type": "code",
   "execution_count": 3,
   "metadata": {},
   "outputs": [
    {
     "data": {
      "text/plain": [
       "array([[ 0.94848938, -0.31680893, -0.46566211],\n",
       "       [ 0.31680893,  0.94848938,  0.45087486],\n",
       "       [ 0.        ,  0.        ,  1.        ]])"
      ]
     },
     "execution_count": 3,
     "metadata": {},
     "output_type": "execute_result"
    }
   ],
   "source": [
    "def randomTransformation2D(maxRot: float = 30, maxTrans: float = 1):\n",
    "    \"\"\"\n",
    "    Generate random 2D rigid transformation centered at the origin and with\n",
    "    an angle in [-maxRot; maxRot] and a translation in lower than maxTrans\n",
    "\n",
    "    Parameters\n",
    "    ----------\n",
    "    maxRot : float\n",
    "        maximum rotation in degrees\n",
    "    maxTrans : float\n",
    "        maximum norm for the translation vector\n",
    "\n",
    "    Returns\n",
    "    -------\n",
    "    M : np.array\n",
    "        Generated random 2d rigid transformation\n",
    "    \"\"\"\n",
    "\n",
    "    M = np.zeros((3, 3), dtype=float)\n",
    "\n",
    "    # Angle\n",
    "    angle = np.random.uniform(-maxRot, maxRot)\n",
    "    # Convert degrees to radian\n",
    "    angle = angle * np.pi / 180\n",
    "    M[0:2, 0:2] = np.array([[np.cos(angle), -np.sin(angle)],\n",
    "                              [np.sin(angle), np.cos(angle)]])\n",
    "\n",
    "    # Translation\n",
    "    translation = np.random.uniform(-maxTrans / np.sqrt(2), maxTrans / np.sqrt(2), size=2)\n",
    "    assert np.linalg.norm(translation) <= maxTrans\n",
    "    M[0:2, 2] = translation\n",
    "    M[2, 2] = 1\n",
    "\n",
    "    return M\n",
    "\n",
    "randomTransformation2D()"
   ]
  },
  {
   "cell_type": "markdown",
   "id": "a42a0489",
   "metadata": {},
   "source": [
    "3D rotation matrix:\n",
    "\n",
    "![](https://wikimedia.org/api/rest_v1/media/math/render/svg/a6821937d5031de282a190f75312353c970aa2df)\n",
    "\n",
    "Therefore, the **3D translation & rotation matrix** looks like:\n",
    "\n",
    "If rotation on `z axis`\n",
    "$$\n",
    "M =\n",
    "\\begin{bmatrix}\n",
    "\\cos(\\theta) & -\\sin(\\theta) & 0 & t_x\\\\\n",
    "\\sin(\\theta) & \\cos(\\theta) & 0 & t_y\\\\\n",
    "0 & 0 & 1 & t_z\\\\\n",
    "0 & 0 & 0 & 1\n",
    "\\end{bmatrix}"
   ]
  },
  {
   "cell_type": "code",
   "execution_count": 4,
   "id": "417cf804",
   "metadata": {},
   "outputs": [
    {
     "data": {
      "text/plain": [
       "array([[ 0.99783941, -0.06570016,  0.        ,  0.44338712],\n",
       "       [ 0.06570016,  0.99783941,  0.        ,  0.28985323],\n",
       "       [ 0.        ,  0.        ,  1.        , -0.11688003],\n",
       "       [ 0.        ,  0.        ,  0.        ,  1.        ]])"
      ]
     },
     "execution_count": 4,
     "metadata": {},
     "output_type": "execute_result"
    }
   ],
   "source": [
    "def randomTransformation3D(maxRot: float = 30, maxTrans: float = 1):\n",
    "    \"\"\"\n",
    "    Generate random 3D rigid transformation centered at the origin and with\n",
    "    an angle in [-maxRot; maxRot] and a translation in lower than maxTrans\n",
    "\n",
    "    Parameters\n",
    "    ----------\n",
    "    maxRot : float\n",
    "        maximum rotation in degrees\n",
    "    maxTrans : float\n",
    "        maximum norm for the translation vector\n",
    "\n",
    "    Returns\n",
    "    -------\n",
    "    M : np.array\n",
    "        Generated random 2d rigid transformation\n",
    "    \"\"\"\n",
    "\n",
    "    M = np.zeros((4, 4), dtype=float)\n",
    "\n",
    "    # Angle\n",
    "    angle = np.random.uniform(-maxRot, maxRot)\n",
    "    # Convert degrees to radian\n",
    "    angle = angle * np.pi / 180\n",
    "\n",
    "    # FIXME: random axis rotation\n",
    "    M[0:3, 0:3] = np.array([[np.cos(angle), -np.sin(angle), 0],\n",
    "                            [np.sin(angle), np.cos(angle), 0],\n",
    "                            [0, 0, 1]])\n",
    "\n",
    "    # Translation\n",
    "    translation = np.random.uniform(-maxTrans / np.sqrt(3), maxTrans / np.sqrt(3), size=3)\n",
    "    assert np.linalg.norm(translation) <= maxTrans\n",
    "    M[0:3, -1] = translation\n",
    "    M[-1, -1] = 1\n",
    "\n",
    "    return M\n",
    "\n",
    "randomTransformation3D()"
   ]
  },
  {
   "cell_type": "code",
   "execution_count": 5,
   "id": "a8940044",
   "metadata": {},
   "outputs": [],
   "source": [
    "def generate_2d_square(width:float, nb_points_edge:int) -> np.array:\n",
    "    \"\"\"\n",
    "    Generate 2D square with homogenous points on the edges\n",
    "\n",
    "    Parameters\n",
    "    ----------\n",
    "    width : float\n",
    "        Size of the square\n",
    "    nb_points_edge:\n",
    "        Number of points on each edge\n",
    "\n",
    "    Returns\n",
    "    -------\n",
    "    square_2d : np.array\n",
    "        Generated 2D square with shape (nb_points_edge * 4, 3)\n",
    "    \"\"\"\n",
    "\n",
    "    edge_points = np.linspace(-width/2, width/2, nb_points_edge)\n",
    "    # top: x axis different, y = width / 2\n",
    "    edges_points_2d = np.expand_dims(edge_points, axis=-1)\n",
    "    top = np.concatenate((edges_points_2d, np.full((len(edge_points), 1), width / 2)), axis=-1)\n",
    "    # bottom: x axis different, y = -width / 2\n",
    "    bottom = np.concatenate((edges_points_2d, np.full((len(edge_points), 1), -width / 2)), axis=-1)\n",
    "    # left: x = -width / 2, y axis different\n",
    "    left = np.concatenate((np.full((len(edge_points), 1), -width / 2), edges_points_2d), axis=-1)\n",
    "    # right: x = width / 2, y axis different\n",
    "    right = np.concatenate((np.full((len(edge_points), 1), width / 2), edges_points_2d), axis=-1)\n",
    "    # Stack all the points\n",
    "    points = np.vstack((top, bottom, left, right))\n",
    "    # Homogenous points\n",
    "    points = np.concatenate((points, np.ones((len(points), 1))), axis=-1)\n",
    "    return points\n"
   ]
  },
  {
   "cell_type": "code",
   "execution_count": 6,
   "id": "e6f0d671",
   "metadata": {},
   "outputs": [
    {
     "data": {
      "text/plain": [
       "((40, 3), dtype('float64'))"
      ]
     },
     "execution_count": 6,
     "metadata": {},
     "output_type": "execute_result"
    }
   ],
   "source": [
    "square_width = 1\n",
    "square_2d = generate_2d_square(width=square_width, nb_points_edge=10)\n",
    "square_2d.shape, square_2d.dtype"
   ]
  },
  {
   "cell_type": "code",
   "execution_count": 7,
   "id": "817331ea",
   "metadata": {},
   "outputs": [
    {
     "data": {
      "text/plain": [
       "Text(0.5, 1.0, '2D Square')"
      ]
     },
     "execution_count": 7,
     "metadata": {},
     "output_type": "execute_result"
    },
    {
     "data": {
      "image/png": "[encoded data removed]",
      "text/plain": [
       "<Figure size 432x288 with 1 Axes>"
      ]
     },
     "metadata": {
      "needs_background": "light"
     },
     "output_type": "display_data"
    }
   ],
   "source": [
    "plt.scatter(square_2d[:, 0], square_2d[:, 1])\n",
    "plt.axis('equal')\n",
    "plt.title(\"2D Square\")"
   ]
  },
  {
   "cell_type": "code",
   "execution_count": 8,
   "id": "37ab947c",
   "metadata": {},
   "outputs": [
    {
     "name": "stdout",
     "output_type": "stream",
     "text": [
      "Rotation & translation matrix:  (3, 3)\n",
      "[[ 0.94216216  0.33515737  0.36864572]\n",
      " [-0.33515737  0.94216216  0.02417466]\n",
      " [ 0.          0.          1.        ]]\n",
      "Square 2D shape:  (40, 3)\n"
     ]
    }
   ],
   "source": [
    "M = randomTransformation2D(maxRot=20, maxTrans=1)\n",
    "print(\"Rotation & translation matrix: \", M.shape), print(M),\n",
    "print(\"Square 2D shape: \", square_2d.shape)\n",
    "# Rotate and translate basic square\n",
    "square_2d_transformed = square_2d @ M.T # FIXME: what it does not work with no transpose..."
   ]
  },
  {
   "cell_type": "code",
   "execution_count": 9,
   "id": "65b7f80d",
   "metadata": {},
   "outputs": [
    {
     "data": {
      "text/plain": [
       "Text(0.5, 1.0, '2D Square with rotation')"
      ]
     },
     "execution_count": 9,
     "metadata": {},
     "output_type": "execute_result"
    },
    {
     "data": {
      "image/png": "[encoded data removed]",
      "text/plain": [
       "<Figure size 432x288 with 1 Axes>"
      ]
     },
     "metadata": {
      "needs_background": "light"
     },
     "output_type": "display_data"
    }
   ],
   "source": [
    "plt.scatter(square_2d[:, 0], square_2d[:, 1])\n",
    "plt.scatter(square_2d_transformed[:, 0], square_2d_transformed[:, 1])\n",
    "plt.axis('equal')\n",
    "plt.title(\"2D Square with rotation\")"
   ]
  },
  {
   "cell_type": "markdown",
   "metadata": {},
   "source": [
    "## Test"
   ]
  },
  {
   "cell_type": "markdown",
   "id": "44c818da",
   "metadata": {},
   "source": [
    "Apply `nearest_neighbor` function over the two squared and visualize the square"
   ]
  },
  {
   "cell_type": "code",
   "execution_count": 10,
   "id": "56f873d8",
   "metadata": {},
   "outputs": [
    {
     "data": {
      "text/plain": [
       "array([26, 26, 27, 27, 27, 28,  1,  2,  3,  4, 10, 10, 11, 12, 12, 13, 14,\n",
       "       15, 16, 17, 10, 10, 10, 10, 21, 22, 23, 24, 25, 26, 17, 17, 17, 33,\n",
       "       34, 35,  5,  5,  5,  4])"
      ]
     },
     "execution_count": 10,
     "metadata": {},
     "output_type": "execute_result"
    }
   ],
   "source": [
    "distances, indices_dst = other_icp.nearest_neighbor(square_2d, square_2d_transformed)\n",
    "indices_dst"
   ]
  },
  {
   "cell_type": "code",
   "execution_count": 11,
   "id": "91f83465",
   "metadata": {},
   "outputs": [
    {
     "data": {
      "text/plain": [
       "Text(0.5, 1.0, '2D Square with rotation')"
      ]
     },
     "execution_count": 11,
     "metadata": {},
     "output_type": "execute_result"
    },
    {
     "data": {
      "image/png": "[encoded data removed]",
      "text/plain": [
       "<Figure size 432x288 with 1 Axes>"
      ]
     },
     "metadata": {
      "needs_background": "light"
     },
     "output_type": "display_data"
    }
   ],
   "source": [
    "plt.scatter(square_2d[:, 0], square_2d[:, 1])\n",
    "plt.scatter(square_2d_transformed[:, 0], square_2d_transformed[:, 1])\n",
    "plt.plot(np.vstack((square_2d[:, 0], square_2d_transformed[indices_dst][:, 0])),\n",
    "         np.vstack((square_2d[:, 1], square_2d_transformed[indices_dst][:, 1])), color='green')\n",
    "plt.axis('equal')\n",
    "plt.title(\"2D Square with rotation\")"
   ]
  },
  {
   "cell_type": "markdown",
   "id": "0a0d04ad",
   "metadata": {},
   "source": [
    "FIXME: Commenter"
   ]
  },
  {
   "cell_type": "markdown",
   "metadata": {},
   "source": [
    "## Variants"
   ]
  },
  {
   "cell_type": "code",
   "execution_count": null,
   "id": "ad9aac5c",
   "metadata": {},
   "outputs": [],
   "source": []
  }
 ],
 "metadata": {
  "interpreter": {
   "hash": "d8527bbcb2da9bfba3c0b5018cb44cd1a4261e2b9a924312f8591cf742d8c886"
  },
  "kernelspec": {
   "display_name": "Python 3.8.10 64-bit ('.venv': venv)",
   "name": "python3"
  },
  "language_info": {
   "codemirror_mode": {
    "name": "ipython",
    "version": 3
   },
   "file_extension": ".py",
   "mimetype": "text/x-python",
   "name": "python",
   "nbconvert_exporter": "python",
   "pygments_lexer": "ipython3",
   "version": "3.9.9"
  }
 },
 "nbformat": 4,
 "nbformat_minor": 5
}
