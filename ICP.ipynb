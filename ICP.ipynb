{
 "cells": [
  {
   "cell_type": "markdown",
   "source": [
    "# Iterative Closest Point (ICP)"
   ],
   "metadata": {}
  },
  {
   "cell_type": "code",
   "execution_count": 18,
   "source": [
    "# imports\n",
    "import numpy as np\n",
    "import numpy.linalg"
   ],
   "outputs": [],
   "metadata": {}
  },
  {
   "cell_type": "markdown",
   "source": [
    "## Data setup\n",
    "\n",
    "Rotation matrix:\n",
    "$\n",
    "\\begin{bmatrix}\n",
    "\\cos(\\theta) & -\\sin(\\theta) & t_x \\\\\n",
    "\\sin(\\theta) & \\cos(\\theta) & t_y \\\\\n",
    "0 & 0 & 1 \\\\\n",
    "\\end{bmatrix}\n",
    "$"
   ],
   "metadata": {}
  },
  {
   "cell_type": "code",
   "execution_count": 68,
   "source": [
    "import random\n",
    "\n",
    "def randomTransformation2D(maxRot: float = 30, maxTrans: float = 1):\n",
    "    \"\"\"\n",
    "    Generate random 2D rigid transformation centered at the origin and with\n",
    "    an angle in [-maxRot; maxRot] and a translation in lower than maxTrans\n",
    "\n",
    "    Parameters\n",
    "    ----------\n",
    "    maxRot : float\n",
    "        maximum rotation in degrees\n",
    "    maxTrans : float\n",
    "        maximum norm for the translation vector\n",
    "\n",
    "    Returns\n",
    "    -------\n",
    "    rot : np.array\n",
    "        Generated random 2d rigid transformation\n",
    "    \"\"\"\n",
    "\n",
    "    rot = np.zeros((3, 3), dtype=float)\n",
    "\n",
    "    # Angle\n",
    "    angle = random.uniform(-maxRot, maxRot)\n",
    "    # Convert degrees to radian\n",
    "    angle = angle * np.pi / 180\n",
    "    rot[0:2, 0:2] = np.array([[np.cos(angle), -np.sin(angle)],\n",
    "                              [np.sin(angle), np.cos(angle)]])\n",
    "\n",
    "    # Translation\n",
    "    # Arbitrary interval\n",
    "    translation = np.array([random.uniform(-maxTrans, maxTrans),\n",
    "                            random.uniform(-maxTrans, maxTrans)])\n",
    "    # Normalize vector\n",
    "    translation /= np.linalg.norm(translation, ord=2)\n",
    "    # Random norm lower than maxNorm\n",
    "    translation *= random.uniform(0, maxTrans)\n",
    "    rot[0:2, 2] = translation\n",
    "    rot[2, 2] = 1\n",
    "\n",
    "    return rot\n",
    "\n",
    "randomTransformation2D()"
   ],
   "outputs": [
    {
     "output_type": "stream",
     "name": "stdout",
     "text": [
      "-0.1771328586096224\n"
     ]
    },
    {
     "output_type": "execute_result",
     "data": {
      "text/plain": [
       "array([[ 0.98435295,  0.17620802,  0.19328163],\n",
       "       [-0.17620802,  0.98435295,  0.88399162],\n",
       "       [ 0.        ,  0.        ,  1.        ]])"
      ]
     },
     "metadata": {},
     "execution_count": 68
    }
   ],
   "metadata": {}
  },
  {
   "cell_type": "code",
   "execution_count": null,
   "source": [
    "## Rotation 3D\n",
    "## Axe de rotation aleatoire"
   ],
   "outputs": [],
   "metadata": {}
  },
  {
   "cell_type": "markdown",
   "source": [
    "## Implementation"
   ],
   "metadata": {}
  },
  {
   "cell_type": "code",
   "execution_count": null,
   "source": [
    "from icp.icp import icp # Import OK"
   ],
   "outputs": [],
   "metadata": {}
  },
  {
   "cell_type": "markdown",
   "source": [
    "## Test"
   ],
   "metadata": {}
  },
  {
   "cell_type": "markdown",
   "source": [
    "## Variants"
   ],
   "metadata": {}
  },
  {
   "cell_type": "code",
   "execution_count": null,
   "source": [],
   "outputs": [],
   "metadata": {}
  }
 ],
 "metadata": {
  "kernelspec": {
   "name": "python3",
   "display_name": "Python 3.8.10 64-bit ('.venv': venv)"
  },
  "language_info": {
   "codemirror_mode": {
    "name": "ipython",
    "version": 3
   },
   "file_extension": ".py",
   "mimetype": "text/x-python",
   "name": "python",
   "nbconvert_exporter": "python",
   "pygments_lexer": "ipython3",
   "version": "3.8.10"
  },
  "interpreter": {
   "hash": "d8527bbcb2da9bfba3c0b5018cb44cd1a4261e2b9a924312f8591cf742d8c886"
  }
 },
 "nbformat": 4,
 "nbformat_minor": 5
}